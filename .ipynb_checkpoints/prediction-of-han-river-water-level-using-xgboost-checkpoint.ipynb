{
 "cells": [
  {
   "cell_type": "markdown",
   "metadata": {},
   "source": [
    "# AI Competition for the Prediction of Water Level in Hangang River by the Flood Safety Management of Paldang Dam"
   ]
  },
  {
   "cell_type": "markdown",
   "metadata": {},
   "source": [
    "# Meta data\n",
    "\n",
    "\n",
    "## Water Data\n",
    "\n",
    "- ymdhm : 년월일시분\n",
    "- swl : 팔당댐 현재수위 (단위: El.m)\n",
    "- inf : 팔당댐 유입량 (단위: m^3/s)\n",
    "- sfw : 팔당댐 저수량 (단위: 만m^3)\n",
    "- ecpc : 팔당댐 공용량 (단위: 백만m^3)\n",
    "- tototf : 총 방류량 (단위: m^3/s)\n",
    "- tide_level : 강화대교 조위 (단위: cm)\n",
    "- wl_1018662 : 청담대교 수위 (단위: cm)\n",
    "- fw_1018662 : 청담대교 유량 (단위: m^3/s)\n",
    "- wl_1018680 : 잠수교 수위 (단위: cm)\n",
    "- fw_1018680 : 잠수교 유량 (단위: m^3/s)\n",
    "- wl_1018683 : 한강대교 수위 (단위: cm)\n",
    "- fw_1018683 : 한강대교 유량 (단위: m^3/s)\n",
    "- wl_1019630 : 행주대교 수위 (단위: cm)\n",
    "- fw_1019630 : 행주대교 유량 (단위: m^3/s)\n",
    "\n",
    "## RainFall Data\n",
    "\n",
    "- YMDHM : 년월일시분\n",
    "- rf_10184100 : 대곡교 강수량\n",
    "- rf_10184110 : 진관교 강수량\n",
    "- rf_10184140 : 송정동 강수량\n",
    "---\n",
    "\n",
    "## 기타 용어 정리\n",
    "\n",
    "- 최고 수위 : 일정한 기간을 통하여 나타난 최고의 수위\n",
    "- 최저 수위 : 일정한 기간을 통하여 나타난 최저의 수위\n",
    "- 평수위 : 1년을 통하여 185일은 이보다 높은 수위\n",
    "- 저수위 : 1년을 통하여 275일은 이보다 높은 수위\n",
    "- 갈수위 : 1년을 통하여 355일은 이보다 높은 수위\n",
    "- 일평균 수위 : 1일을 통하여 1시부터 24시까지 매시 수위의 합을 24로 나눈 수위\n",
    "- 연평균 수위 : 1년을 통하여 일평균 수위의 합을 당해 연도의 일수로 나눈 수위\n",
    "- 감조하천 : 조석의 영향으로 하천의 하류부에서 수위가 변하는 하천\n",
    "\n",
    "\n",
    "## 주요 링크 모음\n",
    "\n",
    "한강 홍수 통제소\n",
    "- http://www.hrfco.go.kr/sumun/rainfallList.do#\n",
    "\n",
    "한국 수자원 공사\n",
    "- https://www.kwater.or.kr/main.do?s_mid=1\n",
    "\n",
    "정보공개\n",
    "- https://www.open.go.kr/com/main/mainView.do?mainBgGubun=search"
   ]
  },
  {
   "cell_type": "code",
   "execution_count": 4,
   "metadata": {
    "ExecuteTime": {
     "end_time": "2022-08-30T04:04:21.772509Z",
     "start_time": "2022-08-30T04:04:21.756790Z"
    },
    "execution": {
     "iopub.execute_input": "2022-08-30T01:33:18.380227Z",
     "iopub.status.busy": "2022-08-30T01:33:18.379256Z",
     "iopub.status.idle": "2022-08-30T01:33:21.465566Z",
     "shell.execute_reply": "2022-08-30T01:33:21.464622Z",
     "shell.execute_reply.started": "2022-08-30T01:33:18.380130Z"
    }
   },
   "outputs": [],
   "source": [
    "# 데이터분석 4종 세트\n",
    "import numpy as np\n",
    "import pandas as pd\n",
    "import matplotlib.pyplot as plt # 시각화\n",
    "import seaborn as sns\n",
    "\n",
    "# 추가 시각화\n",
    "from colorama import Fore\n",
    "\n",
    "# MAE MSE\n",
    "from sklearn.metrics import mean_absolute_error, mean_squared_error\n",
    "import math\n",
    "\n",
    "# Supress warnings \n",
    "import warnings \n",
    "warnings.filterwarnings('ignore')\n",
    "\n",
    "# 재현성\n",
    "np.random.seed(7)\n",
    "\n",
    "# 모델들, 성능 평가\n",
    "from sklearn.ensemble import RandomForestClassifier\n",
    "from sklearn.ensemble import RandomForestRegressor\n",
    "from lightgbm.sklearn import LGBMClassifier\n",
    "from lightgbm.sklearn import LGBMRegressor\n",
    "import xgboost as xgb\n",
    "from xgboost import XGBRegressor\n",
    "from sklearn.multioutput import MultiOutputRegressor\n",
    "from sklearn.multioutput import RegressorChain\n",
    "from functools import partial\n",
    "\n",
    "# 상관관계 분석, VIF : 다중공선성 제거\n",
    "from statsmodels.stats.outliers_influence import variance_inflation_factor\n",
    "\n",
    "# KFold(CV), partial : optuna를 사용하기 위함\n",
    "from sklearn.model_selection import KFold\n",
    "from functools import partial\n",
    "\n",
    "# hyper-parameter tuning을 위한 라이브러리, optuna\n",
    "import optuna\n",
    "import os\n",
    "\n",
    "# MICE\n",
    "from sklearn.linear_model import LinearRegression\n",
    "from sklearn.model_selection import train_test_split\n",
    "from sklearn.experimental import enable_iterative_imputer\n",
    "from sklearn.impute import IterativeImputer\n",
    "\n",
    "# import openpyxl\n",
    "\n",
    "# flag setting\n",
    "data_reducing = False ## memory reducing technique\n",
    "feature_reducing = False ## feature extraction (curse of dimensionality)\n",
    "\n",
    "\n",
    "from sklearn.metrics import mean_squared_error\n",
    "from sklearn.metrics import r2_score\n",
    "\n",
    "# 대회 metric\n",
    "def dacon_metric(y_true, y_pred):\n",
    "    rmse = np.sqrt(mean_squared_error(y_true, y_pred))\n",
    "    r2 = r2_score(y_true, y_pred)\n",
    "    if r2 < 0:\n",
    "      r2 = 999\n",
    "    return rmse / r2\n",
    "\n",
    "evaluation_metric = dacon_metric"
   ]
  },
  {
   "cell_type": "markdown",
   "metadata": {},
   "source": [
    "## data load"
   ]
  },
  {
   "cell_type": "code",
   "execution_count": 9,
   "metadata": {
    "ExecuteTime": {
     "end_time": "2022-08-30T04:05:09.433686Z",
     "start_time": "2022-08-30T04:05:09.425552Z"
    }
   },
   "outputs": [
    {
     "data": {
      "text/plain": [
       "['data_2021.csv',\n",
       " 'data_2020.csv',\n",
       " 'data_2022.csv',\n",
       " 'data_2018.csv',\n",
       " 'data_2019.csv',\n",
       " 'data_2014.csv',\n",
       " 'data_2015.csv',\n",
       " 'data_2017.csv',\n",
       " 'data_2016.csv',\n",
       " 'data_2012.csv',\n",
       " 'data_2013.csv']"
      ]
     },
     "execution_count": 9,
     "metadata": {},
     "output_type": "execute_result"
    }
   ],
   "source": [
    "os.listdir('./competition_data/water_data/')"
   ]
  },
  {
   "cell_type": "code",
   "execution_count": 5,
   "metadata": {
    "ExecuteTime": {
     "end_time": "2022-08-30T04:04:26.421944Z",
     "start_time": "2022-08-30T04:04:26.390559Z"
    },
    "execution": {
     "iopub.execute_input": "2022-08-30T01:33:21.467693Z",
     "iopub.status.busy": "2022-08-30T01:33:21.467336Z",
     "iopub.status.idle": "2022-08-30T01:33:22.897588Z",
     "shell.execute_reply": "2022-08-30T01:33:22.896618Z",
     "shell.execute_reply.started": "2022-08-30T01:33:21.467657Z"
    }
   },
   "outputs": [
    {
     "ename": "FileNotFoundError",
     "evalue": "[Errno 2] No such file or directory: '/kaggle/input/dacon-competition-data/water_data'",
     "output_type": "error",
     "traceback": [
      "\u001b[0;31m---------------------------------------------------------------------------\u001b[0m",
      "\u001b[0;31mFileNotFoundError\u001b[0m                         Traceback (most recent call last)",
      "Input \u001b[0;32mIn [5]\u001b[0m, in \u001b[0;36m<cell line: 5>\u001b[0;34m()\u001b[0m\n\u001b[1;32m      2\u001b[0m df_rf \u001b[38;5;241m=\u001b[39m pd\u001b[38;5;241m.\u001b[39mDataFrame()\n\u001b[1;32m      4\u001b[0m \u001b[38;5;66;03m# ymdhm을 불러올때부터 Datetime dtype으로 불러오기\u001b[39;00m\n\u001b[0;32m----> 5\u001b[0m \u001b[38;5;28;01mfor\u001b[39;00m filename \u001b[38;5;129;01min\u001b[39;00m \u001b[43mos\u001b[49m\u001b[38;5;241;43m.\u001b[39;49m\u001b[43mlistdir\u001b[49m\u001b[43m(\u001b[49m\u001b[38;5;124;43m'\u001b[39;49m\u001b[38;5;124;43m/kaggle/input/dacon-competition-data/water_data\u001b[39;49m\u001b[38;5;124;43m'\u001b[39;49m\u001b[43m)\u001b[49m:\n\u001b[1;32m      6\u001b[0m     df_water \u001b[38;5;241m=\u001b[39m pd\u001b[38;5;241m.\u001b[39mconcat([df_water,pd\u001b[38;5;241m.\u001b[39mread_csv(\u001b[38;5;124mf\u001b[39m\u001b[38;5;124m'\u001b[39m\u001b[38;5;124m/kaggle/input/dacon-competition-data/water_data/\u001b[39m\u001b[38;5;132;01m{\u001b[39;00mfilename\u001b[38;5;132;01m}\u001b[39;00m\u001b[38;5;124m'\u001b[39m, parse_dates\u001b[38;5;241m=\u001b[39m[\u001b[38;5;124m'\u001b[39m\u001b[38;5;124mymdhm\u001b[39m\u001b[38;5;124m'\u001b[39m])])\n\u001b[1;32m      7\u001b[0m \u001b[38;5;28;01mfor\u001b[39;00m filename \u001b[38;5;129;01min\u001b[39;00m os\u001b[38;5;241m.\u001b[39mlistdir(\u001b[38;5;124m'\u001b[39m\u001b[38;5;124m/kaggle/input/dacon-competition-data/rf_data\u001b[39m\u001b[38;5;124m'\u001b[39m):\n",
      "\u001b[0;31mFileNotFoundError\u001b[0m: [Errno 2] No such file or directory: '/kaggle/input/dacon-competition-data/water_data'"
     ]
    }
   ],
   "source": [
    "base_path = './competition_data/\n",
    "\n",
    "df_water = pd.DataFrame()\n",
    "df_rf = pd.DataFrame()\n",
    "\n",
    "# ymdhm을 불러올때부터 Datetime dtype으로 불러오기\n",
    "for filename in os.listdir(base_path + 'water_data'):\n",
    "    df_water = pd.concat([df_water,pd.read_csv('water_data/{filename}', parse_dates=['ymdhm'])])\n",
    "for filename in os.listdir('/kaggle/input/dacon-competition-data/rf_data'):\n",
    "    df_rf = pd.concat([df_rf,pd.read_csv(f'/kaggle/input/dacon-competition-data/rf_data/{filename}', parse_dates=['ymdhm'])])\n",
    "\n",
    "df_water = df_water.sort_values(by = ['ymdhm'])\n",
    "df_rf = df_rf.sort_values(by = ['ymdhm'])\n",
    "df = pd.concat([df_water,df_rf.drop(columns='ymdhm')], axis = 1,)\n",
    "df.reset_index(inplace=True, drop =True)"
   ]
  },
  {
   "cell_type": "markdown",
   "metadata": {},
   "source": [
    "## Missing Values | 결측치 확인"
   ]
  },
  {
   "cell_type": "code",
   "execution_count": 3,
   "metadata": {
    "execution": {
     "iopub.execute_input": "2022-08-30T01:33:22.899340Z",
     "iopub.status.busy": "2022-08-30T01:33:22.898975Z",
     "iopub.status.idle": "2022-08-30T01:33:42.584485Z",
     "shell.execute_reply": "2022-08-30T01:33:42.583410Z",
     "shell.execute_reply.started": "2022-08-30T01:33:22.899302Z"
    }
   },
   "outputs": [],
   "source": [
    "f, ax = plt.subplots(nrows=1, ncols=1, figsize=(16,5))\n",
    "\n",
    "sns.heatmap(df.T.isna(), cmap='Blues')\n",
    "ax.set_title('Missing Values', fontsize=16)\n",
    "\n",
    "for tick in ax.yaxis.get_major_ticks():\n",
    "    tick.label.set_fontsize(14)\n",
    "plt.show()"
   ]
  },
  {
   "cell_type": "code",
   "execution_count": 4,
   "metadata": {
    "execution": {
     "iopub.execute_input": "2022-08-30T01:33:42.594353Z",
     "iopub.status.busy": "2022-08-30T01:33:42.593923Z",
     "iopub.status.idle": "2022-08-30T01:33:42.619283Z",
     "shell.execute_reply": "2022-08-30T01:33:42.618517Z",
     "shell.execute_reply.started": "2022-08-30T01:33:42.594311Z"
    }
   },
   "outputs": [],
   "source": [
    "# 결측치가 많고 그나마 있는 데이터도 0인 feature Drop\n",
    "df.drop(columns=['fw_1018680'], inplace = True)"
   ]
  },
  {
   "cell_type": "code",
   "execution_count": 5,
   "metadata": {
    "execution": {
     "iopub.execute_input": "2022-08-30T01:33:42.626377Z",
     "iopub.status.busy": "2022-08-30T01:33:42.625135Z",
     "iopub.status.idle": "2022-08-30T01:33:42.637724Z",
     "shell.execute_reply": "2022-08-30T01:33:42.636530Z",
     "shell.execute_reply.started": "2022-08-30T01:33:42.626288Z"
    }
   },
   "outputs": [],
   "source": [
    "df.rename(columns={'ymdhm':'date'}, inplace = True)"
   ]
  },
  {
   "cell_type": "code",
   "execution_count": 6,
   "metadata": {
    "execution": {
     "iopub.execute_input": "2022-08-30T01:33:42.643261Z",
     "iopub.status.busy": "2022-08-30T01:33:42.642653Z",
     "iopub.status.idle": "2022-08-30T01:33:42.703683Z",
     "shell.execute_reply": "2022-08-30T01:33:42.702517Z",
     "shell.execute_reply.started": "2022-08-30T01:33:42.643217Z"
    }
   },
   "outputs": [],
   "source": [
    "# test구간인 6월 1일 부터 wl(water level | 수위) feature 값이 모두 0\n",
    "df.tail(6913)"
   ]
  },
  {
   "cell_type": "code",
   "execution_count": 7,
   "metadata": {
    "execution": {
     "iopub.execute_input": "2022-08-30T01:33:42.708611Z",
     "iopub.status.busy": "2022-08-30T01:33:42.708155Z",
     "iopub.status.idle": "2022-08-30T01:35:28.849132Z",
     "shell.execute_reply": "2022-08-30T01:35:28.847744Z",
     "shell.execute_reply.started": "2022-08-30T01:33:42.708579Z"
    }
   },
   "outputs": [],
   "source": [
    "# MICE sklean 구현\n",
    "imputed_df = df.copy()\n",
    "imputed_df = imputed_df.drop(columns='date')\n",
    "\n",
    "lr = LinearRegression()\n",
    "imp = IterativeImputer(estimator=lr,\n",
    "                      verbose = 2, \n",
    "                      max_iter = 30,\n",
    "                      tol = 1e-10,\n",
    "                      imputation_order='roman')\n",
    "# fit on the copied dataset\n",
    "imp.fit(imputed_df)\n",
    "print('-------- complete fitting -------')\n",
    "# transform the copied dataset\n",
    "imputed_df = pd.DataFrame(imp.transform(imputed_df), columns=imputed_df.columns)\n",
    "imputed_df = pd.concat([df.date, imputed_df], axis=1)"
   ]
  },
  {
   "cell_type": "code",
   "execution_count": 8,
   "metadata": {
    "execution": {
     "iopub.execute_input": "2022-08-30T01:35:28.851615Z",
     "iopub.status.busy": "2022-08-30T01:35:28.850860Z",
     "iopub.status.idle": "2022-08-30T01:35:28.880356Z",
     "shell.execute_reply": "2022-08-30T01:35:28.879394Z",
     "shell.execute_reply.started": "2022-08-30T01:35:28.851578Z"
    }
   },
   "outputs": [],
   "source": [
    "imputed_df.info()"
   ]
  },
  {
   "cell_type": "markdown",
   "metadata": {},
   "source": [
    "## feature engineering"
   ]
  },
  {
   "cell_type": "markdown",
   "metadata": {},
   "source": [
    "stationary 분석을 위한 rolling mean, rolling std"
   ]
  },
  {
   "cell_type": "code",
   "execution_count": 9,
   "metadata": {
    "execution": {
     "iopub.execute_input": "2022-08-30T01:35:28.882229Z",
     "iopub.status.busy": "2022-08-30T01:35:28.881901Z",
     "iopub.status.idle": "2022-08-30T01:36:52.245223Z",
     "shell.execute_reply": "2022-08-30T01:36:52.244305Z",
     "shell.execute_reply.started": "2022-08-30T01:35:28.882196Z"
    }
   },
   "outputs": [],
   "source": [
    "# A year has 26469 rows except 2022 year\n",
    "rolling_window = 26469\n",
    "f, ax = plt.subplots(nrows=4, ncols=1, figsize=(15, 12))\n",
    "\n",
    "sns.lineplot(x=imputed_df['date'], y=imputed_df['wl_1018662'], ax=ax[0], color='dodgerblue')\n",
    "sns.lineplot(x=imputed_df['date'], y=imputed_df['wl_1018662'].rolling(rolling_window).mean(), ax=ax[0], color='black', label='rolling mean')\n",
    "sns.lineplot(x=imputed_df['date'], y=imputed_df['wl_1018662'].rolling(rolling_window).std(), ax=ax[0], color='orange', label='rolling std')\n",
    "ax[0].set_ylabel(ylabel='wl_1018662', fontsize=14)\n",
    "\n",
    "sns.lineplot(x=imputed_df['date'], y=imputed_df['wl_1018680'], ax=ax[1], color='dodgerblue')\n",
    "sns.lineplot(x=imputed_df['date'], y=imputed_df['wl_1018680'].rolling(rolling_window).mean(), ax=ax[1], color='black', label='rolling mean')\n",
    "sns.lineplot(x=imputed_df['date'], y=imputed_df['wl_1018680'].rolling(rolling_window).std(), ax=ax[1], color='orange', label='rolling std')\n",
    "ax[1].set_ylabel(ylabel='wl_1018680', fontsize=14)\n",
    "\n",
    "sns.lineplot(x=imputed_df['date'], y=imputed_df['wl_1018683'], ax=ax[2], color='dodgerblue')\n",
    "sns.lineplot(x=imputed_df['date'], y=imputed_df['wl_1018683'].rolling(rolling_window).mean(), ax=ax[2], color='black', label='rolling mean')\n",
    "sns.lineplot(x=imputed_df['date'], y=imputed_df['wl_1018683'].rolling(rolling_window).std(), ax=ax[2], color='orange', label='rolling std')\n",
    "ax[2].set_ylabel(ylabel='wl_1018683', fontsize=14)\n",
    "\n",
    "sns.lineplot(x=imputed_df['date'], y=imputed_df['wl_1019630'], ax=ax[3], color='dodgerblue')\n",
    "sns.lineplot(x=imputed_df['date'], y=imputed_df['wl_1019630'].rolling(rolling_window).mean(), ax=ax[3], color='black', label='rolling mean')\n",
    "sns.lineplot(x=imputed_df['date'], y=imputed_df['wl_1019630'].rolling(rolling_window).std(), ax=ax[3], color='orange', label='rolling std')\n",
    "ax[3].set_ylabel(ylabel='wl_1019630', fontsize=14)\n",
    "\n",
    "plt.tight_layout()\n",
    "plt.show()"
   ]
  },
  {
   "cell_type": "code",
   "execution_count": 10,
   "metadata": {
    "execution": {
     "iopub.execute_input": "2022-08-30T01:36:52.249992Z",
     "iopub.status.busy": "2022-08-30T01:36:52.249396Z",
     "iopub.status.idle": "2022-08-30T01:37:00.301982Z",
     "shell.execute_reply": "2022-08-30T01:37:00.300991Z",
     "shell.execute_reply.started": "2022-08-30T01:36:52.249953Z"
    }
   },
   "outputs": [],
   "source": [
    "from statsmodels.tsa.seasonal import seasonal_decompose\n",
    "\n",
    "core_columns =  [\n",
    "    'inf','tototf','wl_1018662', 'wl_1018680', 'wl_1018683','wl_1019630'\n",
    "]\n",
    "# core_columns = imputed_df.columns.tolist()[1:]\n",
    "for column in core_columns:\n",
    "    decomp = seasonal_decompose(imputed_df[column], period=rolling_window, model='additive', extrapolate_trend='freq')\n",
    "    imputed_df[f\"{column}_trend\"] = decomp.trend\n",
    "    imputed_df[f\"{column}_seasonal\"] = decomp.seasonal"
   ]
  },
  {
   "cell_type": "code",
   "execution_count": 11,
   "metadata": {
    "execution": {
     "iopub.execute_input": "2022-08-30T01:37:00.303976Z",
     "iopub.status.busy": "2022-08-30T01:37:00.303585Z",
     "iopub.status.idle": "2022-08-30T01:37:00.333498Z",
     "shell.execute_reply": "2022-08-30T01:37:00.332428Z",
     "shell.execute_reply.started": "2022-08-30T01:37:00.303928Z"
    }
   },
   "outputs": [],
   "source": [
    "imputed_df.head()"
   ]
  },
  {
   "cell_type": "code",
   "execution_count": 12,
   "metadata": {
    "execution": {
     "iopub.execute_input": "2022-08-30T01:37:00.335363Z",
     "iopub.status.busy": "2022-08-30T01:37:00.334917Z",
     "iopub.status.idle": "2022-08-30T01:37:01.807393Z",
     "shell.execute_reply": "2022-08-30T01:37:01.806385Z",
     "shell.execute_reply.started": "2022-08-30T01:37:00.335327Z"
    }
   },
   "outputs": [],
   "source": [
    "plt.figure(figsize = (14,12))\n",
    "sns.heatmap(imputed_df.corr(),\n",
    "            annot = False,\n",
    "           cmap = \"YlGnBu\",\n",
    "           linewidths = \"0.5\",\n",
    "           vmin = -1)"
   ]
  },
  {
   "cell_type": "code",
   "execution_count": 13,
   "metadata": {
    "execution": {
     "iopub.execute_input": "2022-08-30T01:37:01.809664Z",
     "iopub.status.busy": "2022-08-30T01:37:01.808989Z",
     "iopub.status.idle": "2022-08-30T01:37:01.814043Z",
     "shell.execute_reply": "2022-08-30T01:37:01.813107Z",
     "shell.execute_reply.started": "2022-08-30T01:37:01.809624Z"
    }
   },
   "outputs": [],
   "source": [
    "# target features\n",
    "target_col = ['wl_1018662','wl_1018680','wl_1018683','wl_1019630']"
   ]
  },
  {
   "cell_type": "code",
   "execution_count": 14,
   "metadata": {
    "execution": {
     "iopub.execute_input": "2022-08-30T01:37:01.816205Z",
     "iopub.status.busy": "2022-08-30T01:37:01.815557Z",
     "iopub.status.idle": "2022-08-30T01:37:01.893102Z",
     "shell.execute_reply": "2022-08-30T01:37:01.892107Z",
     "shell.execute_reply.started": "2022-08-30T01:37:01.816170Z"
    }
   },
   "outputs": [],
   "source": [
    "X = imputed_df.drop(columns = target_col)\n",
    "y = pd.concat([imputed_df['date'],imputed_df[target_col]],axis = 1)"
   ]
  },
  {
   "cell_type": "code",
   "execution_count": 15,
   "metadata": {
    "execution": {
     "iopub.execute_input": "2022-08-30T01:37:01.896127Z",
     "iopub.status.busy": "2022-08-30T01:37:01.895396Z",
     "iopub.status.idle": "2022-08-30T01:37:01.900848Z",
     "shell.execute_reply": "2022-08-30T01:37:01.899928Z",
     "shell.execute_reply.started": "2022-08-30T01:37:01.896091Z"
    }
   },
   "outputs": [],
   "source": [
    "# train, test split point\n",
    "test_split_point = '2022-06-01 00:00:00'"
   ]
  },
  {
   "cell_type": "code",
   "execution_count": 16,
   "metadata": {
    "execution": {
     "iopub.execute_input": "2022-08-30T01:37:01.902966Z",
     "iopub.status.busy": "2022-08-30T01:37:01.902594Z",
     "iopub.status.idle": "2022-08-30T01:37:01.960355Z",
     "shell.execute_reply": "2022-08-30T01:37:01.959372Z",
     "shell.execute_reply.started": "2022-08-30T01:37:01.902920Z"
    }
   },
   "outputs": [],
   "source": [
    "X_train = X[X.date < test_split_point]\n",
    "y_train = y[y.date < test_split_point]\n",
    "X_test = X[X.date >= test_split_point]\n",
    "y_test = y[y.date >= test_split_point]"
   ]
  },
  {
   "cell_type": "code",
   "execution_count": 17,
   "metadata": {
    "execution": {
     "iopub.execute_input": "2022-08-30T01:37:01.962256Z",
     "iopub.status.busy": "2022-08-30T01:37:01.961655Z",
     "iopub.status.idle": "2022-08-30T01:37:01.970134Z",
     "shell.execute_reply": "2022-08-30T01:37:01.969275Z",
     "shell.execute_reply.started": "2022-08-30T01:37:01.962219Z"
    }
   },
   "outputs": [],
   "source": [
    "# 날짜 데이터 ordinal encoding\n",
    "def create_date_features(df):\n",
    "    df['year'] = df['date'].dt.year\n",
    "    df['quarter'] = df['date'].dt.quarter\n",
    "    df['month'] = df['date'].dt.month\n",
    "    df['dayofmonth'] = df['date'].dt.day\n",
    "    df['dayofweek'] = df['date'].dt.dayofweek\n",
    "    df['hour'] = df['date'].dt.hour\n",
    "    df['minute'] = df['date'].dt.minute\n",
    "    df['dayofyear'] = df['date'].dt.dayofyear    \n",
    "    df['weekofyear'] = df['date'].dt.weekofyear\n",
    "    df['date'] = df.index"
   ]
  },
  {
   "cell_type": "code",
   "execution_count": 18,
   "metadata": {
    "execution": {
     "iopub.execute_input": "2022-08-30T01:37:01.972145Z",
     "iopub.status.busy": "2022-08-30T01:37:01.971589Z",
     "iopub.status.idle": "2022-08-30T01:37:02.249743Z",
     "shell.execute_reply": "2022-08-30T01:37:02.248800Z",
     "shell.execute_reply.started": "2022-08-30T01:37:01.972111Z"
    }
   },
   "outputs": [],
   "source": [
    "create_date_features(X_train)\n",
    "create_date_features(X_test)\n",
    "y_train = y_train.drop(columns = ['date'])\n",
    "y_test = y_test.drop(columns = ['date'])"
   ]
  },
  {
   "cell_type": "code",
   "execution_count": 19,
   "metadata": {
    "execution": {
     "iopub.execute_input": "2022-08-30T01:37:02.251570Z",
     "iopub.status.busy": "2022-08-30T01:37:02.251203Z",
     "iopub.status.idle": "2022-08-30T01:37:02.276928Z",
     "shell.execute_reply": "2022-08-30T01:37:02.276020Z",
     "shell.execute_reply.started": "2022-08-30T01:37:02.251535Z"
    }
   },
   "outputs": [],
   "source": [
    "X_train.head()"
   ]
  },
  {
   "cell_type": "markdown",
   "metadata": {},
   "source": [
    "## Modeling | 모델링"
   ]
  },
  {
   "cell_type": "code",
   "execution_count": 20,
   "metadata": {
    "execution": {
     "iopub.execute_input": "2022-08-30T01:37:02.279080Z",
     "iopub.status.busy": "2022-08-30T01:37:02.278490Z",
     "iopub.status.idle": "2022-08-30T01:37:02.291981Z",
     "shell.execute_reply": "2022-08-30T01:37:02.291018Z",
     "shell.execute_reply.started": "2022-08-30T01:37:02.279044Z"
    }
   },
   "outputs": [],
   "source": [
    "from sklearn.pipeline import Pipeline\n",
    "from sklearn.model_selection import TimeSeriesSplit\n",
    "\n",
    "\n",
    "def optimizer(trial, X, y, K):\n",
    "    # 조절할 hyper-parameter 조합을 적어줍니다.\n",
    "    max_depth = trial.suggest_int('max_depth', 0, 16)\n",
    "    max_leaves = trial.suggest_int('max_leaves', 128, 1023) # 2**max_depth - 1\n",
    "    n_estimators = trial.suggest_int('n_estimators', 200, 600)\n",
    "    eta = trial.suggest_uniform('eta', 0.001, 0.3)\n",
    "\n",
    "    # multi Output regressor\n",
    "    if y.shape[1] > 1:\n",
    "        model = RegressorChain(\n",
    "                    XGBRegressor(n_estimators=n_estimators,\n",
    "                    max_depth=max_depth,\n",
    "                    max_leaves=max_leaves,\n",
    "                    eta=eta,\n",
    "                    tree_method='gpu_hist' # gpu 사용시\n",
    "                    # tree_method='hist'\n",
    "                    ),\n",
    "                    order=[0, 1, 2, 3])\n",
    "        model = Pipeline([('reg', model)])\n",
    "    else:\n",
    "    # single output regressor\n",
    "        model = XGBRegressor(n_estimators=n_estimators,\n",
    "                          max_depth=max_depth,\n",
    "                          max_leaves=max_leaves,\n",
    "                          eta=eta,\n",
    "                          tree_method='gpu_hist', # gpu 사용시\n",
    "                          # tree_method='hist'\n",
    "                          n_jobs=-1)\n",
    "    \n",
    "    # K-Fold Cross validation\n",
    "    folds = KFold(n_splits=K)\n",
    "    losses = []\n",
    "    for train_idx, val_idx in folds.split(X, y):\n",
    "        X_train = X.iloc[train_idx]\n",
    "        y_train = y.iloc[train_idx]\n",
    "        X_val = X.iloc[val_idx]\n",
    "        y_val = y.iloc[val_idx]\n",
    "\n",
    "        model.fit(X_train, y_train)\n",
    "        preds = model.predict(X_val)\n",
    "        # loss = mean_absolute_error(y_val, preds)\n",
    "        loss = dacon_metric(y_val, preds)\n",
    "        losses.append(loss)\n",
    "#     #Time Series Split (Expanded)\n",
    "#     folds = TimeSeriesSplit(n_splits=K)\n",
    "#     losses = []\n",
    "#     for (train_index, valid_index) in folds.split(X,y):\n",
    "#         X_train, X_valid = X.iloc[train_index], X.iloc[valid_index]\n",
    "#         y_train, y_valid = y.iloc[train_index], y.iloc[valid_index]\n",
    "        \n",
    "#         model.fit(X_train, y_train)\n",
    "#         preds = model.predict(X_valid)\n",
    "#         # loss = mean_absolute_error(y_val, preds)\n",
    "#         loss = dacon_metric(y_valid, preds)\n",
    "#         losses.append(loss)\n",
    "\n",
    "    # K-Fold의 평균 loss값을 돌려줍니다.\n",
    "    return np.mean(losses)"
   ]
  },
  {
   "cell_type": "code",
   "execution_count": 21,
   "metadata": {
    "execution": {
     "iopub.execute_input": "2022-08-30T01:37:02.293829Z",
     "iopub.status.busy": "2022-08-30T01:37:02.293369Z",
     "iopub.status.idle": "2022-08-30T03:39:06.818908Z",
     "shell.execute_reply": "2022-08-30T03:39:06.817949Z",
     "shell.execute_reply.started": "2022-08-30T01:37:02.293792Z"
    }
   },
   "outputs": [],
   "source": [
    "from functools import partial\n",
    "# Optuna Run!\n",
    "\n",
    "K = 25 # Kfold 수\n",
    "study = optuna.create_study(direction=\"minimize\") # 최소/최대 어느 방향의 Loss 최적값을 구할 건지.\n",
    "opt_func = partial(optimizer, X=X_train, y=y_train, K=K)\n",
    "study.optimize(opt_func, n_trials=5)"
   ]
  },
  {
   "cell_type": "markdown",
   "metadata": {},
   "source": []
  },
  {
   "cell_type": "code",
   "execution_count": 22,
   "metadata": {
    "execution": {
     "iopub.execute_input": "2022-08-30T03:39:06.824454Z",
     "iopub.status.busy": "2022-08-30T03:39:06.822338Z",
     "iopub.status.idle": "2022-08-30T03:39:06.842290Z",
     "shell.execute_reply": "2022-08-30T03:39:06.841243Z",
     "shell.execute_reply.started": "2022-08-30T03:39:06.824412Z"
    }
   },
   "outputs": [],
   "source": [
    "# optuna가 시도했던 모든 실험 관련 데이터\n",
    "study.trials_dataframe()"
   ]
  },
  {
   "cell_type": "code",
   "execution_count": 23,
   "metadata": {
    "execution": {
     "iopub.execute_input": "2022-08-30T03:39:06.844287Z",
     "iopub.status.busy": "2022-08-30T03:39:06.843943Z",
     "iopub.status.idle": "2022-08-30T03:39:06.854903Z",
     "shell.execute_reply": "2022-08-30T03:39:06.853454Z",
     "shell.execute_reply.started": "2022-08-30T03:39:06.844253Z"
    }
   },
   "outputs": [],
   "source": [
    "print(\"Best Score: %.4f\" % study.best_value) # best score 출력\n",
    "print(\"Best params: \", study.best_trial.params) # best score일 때의 하이퍼파라미터들"
   ]
  },
  {
   "cell_type": "code",
   "execution_count": 24,
   "metadata": {
    "execution": {
     "iopub.execute_input": "2022-08-30T03:39:06.856780Z",
     "iopub.status.busy": "2022-08-30T03:39:06.856292Z",
     "iopub.status.idle": "2022-08-30T03:39:07.003312Z",
     "shell.execute_reply": "2022-08-30T03:39:06.996743Z",
     "shell.execute_reply.started": "2022-08-30T03:39:06.856744Z"
    }
   },
   "outputs": [],
   "source": [
    "# 실험 기록 시각화\n",
    "optuna.visualization.plot_optimization_history(study)"
   ]
  },
  {
   "cell_type": "code",
   "execution_count": 25,
   "metadata": {
    "execution": {
     "iopub.execute_input": "2022-08-30T03:39:07.006215Z",
     "iopub.status.busy": "2022-08-30T03:39:07.005234Z",
     "iopub.status.idle": "2022-08-30T03:39:07.261274Z",
     "shell.execute_reply": "2022-08-30T03:39:07.260442Z",
     "shell.execute_reply.started": "2022-08-30T03:39:07.006169Z"
    }
   },
   "outputs": [],
   "source": [
    "# hyper-parameter들의 중요도\n",
    "optuna.visualization.plot_param_importances(study)"
   ]
  },
  {
   "cell_type": "code",
   "execution_count": 26,
   "metadata": {
    "execution": {
     "iopub.execute_input": "2022-08-30T03:39:07.265533Z",
     "iopub.status.busy": "2022-08-30T03:39:07.263264Z",
     "iopub.status.idle": "2022-08-30T03:39:07.270765Z",
     "shell.execute_reply": "2022-08-30T03:39:07.269787Z",
     "shell.execute_reply.started": "2022-08-30T03:39:07.265502Z"
    }
   },
   "outputs": [],
   "source": [
    "model = RegressorChain(XGBRegressor(**study.best_trial.params, \n",
    "                                    tree_method='gpu_hist'\n",
    "                                    # tree_method='hist'\n",
    "                                    ), \n",
    "                       order=[0, 1, 2, 3]\n",
    "                       )"
   ]
  },
  {
   "cell_type": "code",
   "execution_count": 27,
   "metadata": {
    "execution": {
     "iopub.execute_input": "2022-08-30T03:39:07.273388Z",
     "iopub.status.busy": "2022-08-30T03:39:07.273025Z",
     "iopub.status.idle": "2022-08-30T03:42:43.071511Z",
     "shell.execute_reply": "2022-08-30T03:42:43.070383Z",
     "shell.execute_reply.started": "2022-08-30T03:39:07.273353Z"
    }
   },
   "outputs": [],
   "source": [
    "model.fit(X_train, y_train)\n",
    "\n",
    "print(\"Prediction with Best Estimator\")\n",
    "pred_test = model.predict(X_test)\n",
    "# np.sqrt(mean_squared_error(y_test, pred_test))\n",
    "# optuna_test_score = evaluation_metric(y_test, pred_test)\n",
    "# print(\"Optuna Test RMSE/R2 Score : %.4f\" % optuna_test_score)\n",
    "\n",
    "# r2_score(y_test, pred_test)\n",
    "\n",
    "# # save_model(model, 'fitted_model')"
   ]
  },
  {
   "cell_type": "code",
   "execution_count": 28,
   "metadata": {
    "execution": {
     "iopub.execute_input": "2022-08-30T03:42:43.084296Z",
     "iopub.status.busy": "2022-08-30T03:42:43.083742Z",
     "iopub.status.idle": "2022-08-30T03:42:43.306825Z",
     "shell.execute_reply": "2022-08-30T03:42:43.305358Z",
     "shell.execute_reply.started": "2022-08-30T03:42:43.084256Z"
    }
   },
   "outputs": [],
   "source": [
    "submission = pd.read_csv('../input/dacon-competition-data/sample_submission.csv')\n",
    "\n",
    "for idx, sub_col in enumerate(submission.columns[1:]):\n",
    "    submission[sub_col] = pred_test[idx]\n",
    "submission.to_csv('./submission',index=False)"
   ]
  },
  {
   "cell_type": "markdown",
   "metadata": {},
   "source": [
    "# Thank you"
   ]
  }
 ],
 "metadata": {
  "kernelspec": {
   "display_name": "Python 3 (ipykernel)",
   "language": "python",
   "name": "python3"
  },
  "language_info": {
   "codemirror_mode": {
    "name": "ipython",
    "version": 3
   },
   "file_extension": ".py",
   "mimetype": "text/x-python",
   "name": "python",
   "nbconvert_exporter": "python",
   "pygments_lexer": "ipython3",
   "version": "3.8.13"
  },
  "toc": {
   "base_numbering": 1,
   "nav_menu": {},
   "number_sections": true,
   "sideBar": true,
   "skip_h1_title": false,
   "title_cell": "Table of Contents",
   "title_sidebar": "Contents",
   "toc_cell": false,
   "toc_position": {},
   "toc_section_display": true,
   "toc_window_display": false
  },
  "varInspector": {
   "cols": {
    "lenName": 16,
    "lenType": 16,
    "lenVar": 40
   },
   "kernels_config": {
    "python": {
     "delete_cmd_postfix": "",
     "delete_cmd_prefix": "del ",
     "library": "var_list.py",
     "varRefreshCmd": "print(var_dic_list())"
    },
    "r": {
     "delete_cmd_postfix": ") ",
     "delete_cmd_prefix": "rm(",
     "library": "var_list.r",
     "varRefreshCmd": "cat(var_dic_list()) "
    }
   },
   "types_to_exclude": [
    "module",
    "function",
    "builtin_function_or_method",
    "instance",
    "_Feature"
   ],
   "window_display": false
  }
 },
 "nbformat": 4,
 "nbformat_minor": 4
}
