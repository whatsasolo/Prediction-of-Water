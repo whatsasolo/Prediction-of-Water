{
 "cells": [
  {
   "cell_type": "code",
   "execution_count": 1,
   "id": "f4eaeca6",
   "metadata": {},
   "outputs": [],
   "source": [
    "import numpy\n",
    "import pandas"
   ]
  },
  {
   "cell_type": "markdown",
   "id": "4d489da7",
   "metadata": {},
   "source": [
    "# AI Competition for the Prediction of Water Level in Hangang River by the Flood Safety Management of Paldang Dam\n",
    "---\n",
    "\n",
    "# data\n",
    "\n",
    "## Water Data\n",
    "\n",
    "- ymdhm : 년월일시분\n",
    "- swl : 팔당댐 현재수위 (단위: El.m)\n",
    "- inf : 팔당댐 유입량 (단위: m^3/s)\n",
    "- sfw : 팔당댐 저수량 (단위: 만m^3)\n",
    "- ecpc : 팔당댐 공용량 (단위: 백만m^3)\n",
    "- tototf : 총 방류량 (단위: m^3/s)\n",
    "- tide_level : 강화대교 조위 (단위: cm)\n",
    "- wl_1018662 : 청담대교 수위 (단위: cm)\n",
    "- fw_1018662 : 청담대교 유량 (단위: m^3/s)\n",
    "- wl_1018680 : 잠수교 수위 (단위: cm)\n",
    "- fw_1018680 : 잠수교 유량 (단위: m^3/s)\n",
    "- wl_1018683 : 한강대교 수위 (단위: cm)\n",
    "- fw_1018683 : 한강대교 유량 (단위: m^3/s)\n",
    "- wl_1019630 : 행주대교 수위 (단위: cm)\n",
    "- fw_1019630 : 행주대교 유량 (단위: m^3/s)\n",
    "\n",
    "## RainFall Data\n",
    "\n",
    "- YMDHM : 년월일시분\n",
    "- rf_10184100 : 대곡교 강수량\n",
    "- rf_10184110 : 진관교 강수량\n",
    "- rf_10184140 : 송정동 강수량\n",
    "---\n",
    "\n",
    "# 기타 용어 정리\n",
    "\n",
    "- 최고 수위 : 일정한 기간을 통하여 나타난 최고의 수위\n",
    "- 최저 수위 : 일정한 기간을 통하여 나타난 최저의 수위\n",
    "- 평수위 : 1년을 통하여 185일은 이보다 높은 수위\n",
    "- 저수위 : 1년을 통하여 275일은 이보다 높은 수위\n",
    "- 갈수위 : 1년을 통하여 355일은 이보다 높은 수위\n",
    "- 일평균 수위 : 1일을 통하여 1시부터 24시까지 매시 수위의 합을 24로 나눈 수위\n",
    "- 연평균 수위 : 1년을 통하여 일평균 수위의 합을 당해 연도의 일수로 나눈 수위\n",
    "- 감조하천 : 조석의 영향으로 하천의 하류부에서 수위가 변하는 하천\n",
    "\n",
    "\n",
    "# 주요 링크 모음\n",
    "\n",
    "한강 홍수 통제소\n",
    "- http://www.hrfco.go.kr/sumun/rainfallList.do#\n",
    "\n",
    "한국 수자원 공사\n",
    "- https://www.kwater.or.kr/main.do?s_mid=1\n",
    "\n",
    "정보공개\n",
    "- https://www.open.go.kr/com/main/mainView.do?mainBgGubun=search"
   ]
  },
  {
   "cell_type": "code",
   "execution_count": null,
   "id": "3c147dd8",
   "metadata": {},
   "outputs": [],
   "source": []
  },
  {
   "cell_type": "code",
   "execution_count": null,
   "id": "5a32f64e",
   "metadata": {},
   "outputs": [],
   "source": []
  },
  {
   "cell_type": "code",
   "execution_count": null,
   "id": "181aa037",
   "metadata": {},
   "outputs": [],
   "source": []
  },
  {
   "cell_type": "code",
   "execution_count": null,
   "id": "7afcd587",
   "metadata": {},
   "outputs": [],
   "source": []
  }
 ],
 "metadata": {
  "kernelspec": {
   "display_name": "dacon",
   "language": "python",
   "name": "dacon"
  },
  "language_info": {
   "codemirror_mode": {
    "name": "ipython",
    "version": 3
   },
   "file_extension": ".py",
   "mimetype": "text/x-python",
   "name": "python",
   "nbconvert_exporter": "python",
   "pygments_lexer": "ipython3",
   "version": "3.8.9"
  }
 },
 "nbformat": 4,
 "nbformat_minor": 5
}
